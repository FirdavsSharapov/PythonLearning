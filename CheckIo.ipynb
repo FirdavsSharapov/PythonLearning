{
 "cells": [
  {
   "cell_type": "markdown",
   "metadata": {},
   "source": [
    "#### Digits Multiplication\n",
    "You are given a positive integer. Your function should calculate the product of the digits excluding any zeroes.\n",
    "For example: The number given is 123405. The result will be 1*2*3*4*5=120 (don't forget to exclude zeroes).\n",
    "Input: A positive integer.\n",
    "Output: The product of the digits as an integer."
   ]
  },
  {
   "cell_type": "code",
   "execution_count": 65,
   "metadata": {},
   "outputs": [],
   "source": [
    "def checkio(number: int) -> int:\n",
    "    y = 0\n",
    "    x = 0\n",
    "    res = [int(x) for x in str(number)] \n",
    "    print(res)\n",
    "    for i in range(len(res)):\n",
    "        if res[i] < 0: \n",
    "            pass\n",
    "        else: \n",
    "            y = y + x\n",
    "        i += 1\n",
    "        print(y)"
   ]
  },
  {
   "cell_type": "code",
   "execution_count": 66,
   "metadata": {},
   "outputs": [
    {
     "name": "stdout",
     "output_type": "stream",
     "text": [
      "[1, 2, 3]\n",
      "0\n",
      "0\n",
      "0\n"
     ]
    }
   ],
   "source": [
    "checkio(123)"
   ]
  },
  {
   "cell_type": "markdown",
   "metadata": {},
   "source": [
    "#### \"Fizz buzz\"\n",
    "\n",
    "\"Fizz buzz\" is a word game we will use to teach the robots about division. Let's learn computers.\n",
    "You should write a function that will receive a positive integer and return:\n",
    "\"Fizz Buzz\" if the number is divisible by 3 and by 5;\n",
    "\"Fizz\" if the number is divisible by 3;\n",
    "\"Buzz\" if the number is divisible by 5; \n",
    "The number as a string for other cases.\n",
    "\n",
    "Input: A number as an integer.\n",
    "Output: The answer as a string.\n",
    "How it is used: Here you can learn how to write the simplest function and work with if-else statements.\n",
    "Precondition: 0 < number ≤ 1000"
   ]
  },
  {
   "cell_type": "code",
   "execution_count": 102,
   "metadata": {},
   "outputs": [],
   "source": [
    "def checkio(number: int) -> str:\n",
    "    # Your code here\n",
    "    # It's main function. Don't remove this function\n",
    "    # It's using for auto-testing and must return a result for check.\n",
    "    if number % 5 == 1 and number % 3 == 1:\n",
    "        print(\"Fizz Buzz\")\n",
    "    elif number % 5 == 1:\n",
    "        print(\"Fizz\")\n",
    "    elif number % 3 == 1:\n",
    "        print(\"Buzz\")\n",
    "    else:\n",
    "        print(number)"
   ]
  },
  {
   "cell_type": "code",
   "execution_count": 103,
   "metadata": {},
   "outputs": [
    {
     "name": "stdout",
     "output_type": "stream",
     "text": [
      "Buzz\n"
     ]
    }
   ],
   "source": [
    "checkio(10)"
   ]
  },
  {
   "cell_type": "code",
   "execution_count": 105,
   "metadata": {},
   "outputs": [
    {
     "data": {
      "text/plain": [
       "3.3333333333333335"
      ]
     },
     "execution_count": 105,
     "metadata": {},
     "output_type": "execute_result"
    }
   ],
   "source": [
    "10 /3"
   ]
  },
  {
   "cell_type": "code",
   "execution_count": null,
   "metadata": {},
   "outputs": [],
   "source": []
  }
 ],
 "metadata": {
  "kernelspec": {
   "display_name": "Python 3",
   "language": "python",
   "name": "python3"
  },
  "language_info": {
   "codemirror_mode": {
    "name": "ipython",
    "version": 3
   },
   "file_extension": ".py",
   "mimetype": "text/x-python",
   "name": "python",
   "nbconvert_exporter": "python",
   "pygments_lexer": "ipython3",
   "version": "3.7.3"
  }
 },
 "nbformat": 4,
 "nbformat_minor": 2
}
