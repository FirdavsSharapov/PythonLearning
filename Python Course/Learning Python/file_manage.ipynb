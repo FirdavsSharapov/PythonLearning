{
 "cells": [
  {
   "cell_type": "code",
   "execution_count": 1,
   "metadata": {},
   "outputs": [],
   "source": [
    "import csv\n",
    "import json"
   ]
  },
  {
   "cell_type": "code",
   "execution_count": 2,
   "metadata": {},
   "outputs": [
    {
     "ename": "FileNotFoundError",
     "evalue": "[Errno 2] No such file or directory: 'passwords.csv'",
     "output_type": "error",
     "traceback": [
      "\u001b[1;31m---------------------------------------------------------------------------\u001b[0m",
      "\u001b[1;31mFileNotFoundError\u001b[0m                         Traceback (most recent call last)",
      "Cell \u001b[1;32mIn[2], line 1\u001b[0m\n\u001b[1;32m----> 1\u001b[0m \u001b[38;5;28;01mwith\u001b[39;00m \u001b[38;5;28mopen\u001b[39m(\u001b[38;5;124m'\u001b[39m\u001b[38;5;124mpasswords.csv\u001b[39m\u001b[38;5;124m'\u001b[39m, newline\u001b[38;5;241m=\u001b[39m\u001b[38;5;124m'\u001b[39m\u001b[38;5;124m'\u001b[39m) \u001b[38;5;28;01mas\u001b[39;00m passwords:\n\u001b[0;32m      2\u001b[0m   \u001b[38;5;66;03m# password_file = csv.reader(passwords)\u001b[39;00m\n\u001b[0;32m      3\u001b[0m   password_file \u001b[38;5;241m=\u001b[39m csv\u001b[38;5;241m.\u001b[39mDictReader(passwords)\n\u001b[0;32m      4\u001b[0m   compromised_users \u001b[38;5;241m=\u001b[39m []\n",
      "File \u001b[1;32mc:\\Users\\Fred\\anaconda3\\Lib\\site-packages\\IPython\\core\\interactiveshell.py:286\u001b[0m, in \u001b[0;36m_modified_open\u001b[1;34m(file, *args, **kwargs)\u001b[0m\n\u001b[0;32m    279\u001b[0m \u001b[38;5;28;01mif\u001b[39;00m file \u001b[38;5;129;01min\u001b[39;00m {\u001b[38;5;241m0\u001b[39m, \u001b[38;5;241m1\u001b[39m, \u001b[38;5;241m2\u001b[39m}:\n\u001b[0;32m    280\u001b[0m     \u001b[38;5;28;01mraise\u001b[39;00m \u001b[38;5;167;01mValueError\u001b[39;00m(\n\u001b[0;32m    281\u001b[0m         \u001b[38;5;124mf\u001b[39m\u001b[38;5;124m\"\u001b[39m\u001b[38;5;124mIPython won\u001b[39m\u001b[38;5;124m'\u001b[39m\u001b[38;5;124mt let you open fd=\u001b[39m\u001b[38;5;132;01m{\u001b[39;00mfile\u001b[38;5;132;01m}\u001b[39;00m\u001b[38;5;124m by default \u001b[39m\u001b[38;5;124m\"\u001b[39m\n\u001b[0;32m    282\u001b[0m         \u001b[38;5;124m\"\u001b[39m\u001b[38;5;124mas it is likely to crash IPython. If you know what you are doing, \u001b[39m\u001b[38;5;124m\"\u001b[39m\n\u001b[0;32m    283\u001b[0m         \u001b[38;5;124m\"\u001b[39m\u001b[38;5;124myou can use builtins\u001b[39m\u001b[38;5;124m'\u001b[39m\u001b[38;5;124m open.\u001b[39m\u001b[38;5;124m\"\u001b[39m\n\u001b[0;32m    284\u001b[0m     )\n\u001b[1;32m--> 286\u001b[0m \u001b[38;5;28;01mreturn\u001b[39;00m io_open(file, \u001b[38;5;241m*\u001b[39margs, \u001b[38;5;241m*\u001b[39m\u001b[38;5;241m*\u001b[39mkwargs)\n",
      "\u001b[1;31mFileNotFoundError\u001b[0m: [Errno 2] No such file or directory: 'passwords.csv'"
     ]
    }
   ],
   "source": [
    "with open('compromised_users.txt', 'w') as compromised_user_file:\n",
    "  for compromised_user in compromised_users:\n",
    "    compromised_user_file.write(compromised_user)\n",
    "\n",
    "import json\n",
    "\n",
    "with open('boss_message.json', 'w') as boss_message:\n",
    "  boss_message_dict = {\"recipient\":\"The Boss\", \"message\":\"Mission Success\"}\n",
    "  json.dump(boss_message_dict, boss_message)\n",
    "\n",
    "with open('new_passwords.csv', 'w') as new_passwords_obj:\n",
    "  slash_null_sig = '''\n",
    "      _  _     ___   __  ____             \n",
    "      / )( \\   / __) /  \\(_  _)            \n",
    "      ) \\/ (  ( (_ \\(  O ) )(              \n",
    "      \\____/   \\___/ \\__/ (__)             \n",
    "      _  _   __    ___  __ _  ____  ____  \n",
    "      / )( \\ / _\\  / __)(  / )(  __)(    \\ \n",
    "      ) __ (/    \\( (__  )  (  ) _)  ) D ( \n",
    "      \\_)(_/\\_/\\_/ \\___)(__\\_)(____)(____/ \n",
    "      ____  __     __   ____  _  _ \n",
    "      ___   / ___)(  )   / _\\ / ___)/ )( \\\n",
    "      (___)  \\___ \\/ (_/\\/    \\\\___ \\) __ (\n",
    "      (____/\\____/\\_/\\_/(____/\\_)(_/\n",
    "      __ _  _  _  __    __                \n",
    "      (  ( \\/ )( \\(  )  (  )               \n",
    "      /    /) \\/ (/ (_/\\/ (_/\\             \n",
    "      \\_)__)\\____/\\____/\\____/\n",
    "      '''\n",
    "  new_passwords_obj.write(slash_null_sig)"
   ]
  }
 ],
 "metadata": {
  "kernelspec": {
   "display_name": "Python 3",
   "language": "python",
   "name": "python3"
  },
  "language_info": {
   "codemirror_mode": {
    "name": "ipython",
    "version": 3
   },
   "file_extension": ".py",
   "mimetype": "text/x-python",
   "name": "python",
   "nbconvert_exporter": "python",
   "pygments_lexer": "ipython3",
   "version": "3.11.5"
  }
 },
 "nbformat": 4,
 "nbformat_minor": 2
}
