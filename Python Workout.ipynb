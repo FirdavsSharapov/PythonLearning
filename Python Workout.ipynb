{
 "cells": [
  {
   "cell_type": "markdown",
   "metadata": {},
   "source": [
    "#### Chapter 2"
   ]
  },
  {
   "cell_type": "code",
   "execution_count": 1,
   "metadata": {},
   "outputs": [],
   "source": [
    "import random"
   ]
  },
  {
   "cell_type": "code",
   "execution_count": 3,
   "metadata": {},
   "outputs": [],
   "source": [
    "def guessing_game():\n",
    "    answer = random.randint(0,100)\n",
    "    \n",
    "    while True:\n",
    "        user_guess = int(input('What is your guess? '))\n",
    "        if user_guess == answer:\n",
    "            print (f'Right! The answer is {user_guess}')\n",
    "            break\n",
    "        \n",
    "        if user_guess < answer:\n",
    "            print (f'Your guess of {user_guess} is too low')\n",
    "        else:\n",
    "            print (f'Your guess of {user_guess} is too high')"
   ]
  },
  {
   "cell_type": "code",
   "execution_count": 5,
   "metadata": {},
   "outputs": [
    {
     "name": "stdout",
     "output_type": "stream",
     "text": [
      "What is your guess? 5\n",
      "Your guess of 5 is too low\n",
      "What is your guess? 10\n",
      "Your guess of 10 is too low\n",
      "What is your guess? 70\n",
      "Your guess of 70 is too low\n",
      "What is your guess? 80\n",
      "Your guess of 80 is too low\n",
      "What is your guess? 90\n",
      "Your guess of 90 is too low\n",
      "What is your guess? 100\n",
      "Your guess of 100 is too high\n",
      "What is your guess? 95\n",
      "Your guess of 95 is too high\n",
      "What is your guess? 92\n",
      "Your guess of 92 is too low\n",
      "What is your guess? 94\n",
      "Right! The answer is 94\n"
     ]
    }
   ],
   "source": [
    "guessing_game()"
   ]
  },
  {
   "cell_type": "code",
   "execution_count": null,
   "metadata": {},
   "outputs": [],
   "source": []
  },
  {
   "cell_type": "code",
   "execution_count": null,
   "metadata": {},
   "outputs": [],
   "source": []
  },
  {
   "cell_type": "code",
   "execution_count": null,
   "metadata": {},
   "outputs": [],
   "source": []
  }
 ],
 "metadata": {
  "kernelspec": {
   "display_name": "Python 3",
   "language": "python",
   "name": "python3"
  },
  "language_info": {
   "codemirror_mode": {
    "name": "ipython",
    "version": 3
   },
   "file_extension": ".py",
   "mimetype": "text/x-python",
   "name": "python",
   "nbconvert_exporter": "python",
   "pygments_lexer": "ipython3",
   "version": "3.8.5"
  }
 },
 "nbformat": 4,
 "nbformat_minor": 4
}
